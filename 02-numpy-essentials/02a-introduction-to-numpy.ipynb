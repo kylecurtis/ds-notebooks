{
 "cells": [
  {
   "cell_type": "markdown",
   "metadata": {},
   "source": [
    "# Introduction to NumPy\n",
    "\n",
    "https://numpy.org/\n",
    "\n",
    "**NumPy** (short for Numerical Python) is a powerful Python library that provides efficient operations on arrays of numeric data. NumPy is the backbone for scientific computing and data science workflows, as it provides fast and optimized operations on large numerical datasets."
   ]
  },
  {
   "cell_type": "markdown",
   "metadata": {},
   "source": [
    "<br>\n",
    "\n",
    "---\n",
    "\n",
    "<br>"
   ]
  },
  {
   "cell_type": "markdown",
   "metadata": {},
   "source": [
    "## Why is NumPy important?\n",
    "\n",
    "NumPy is crucial for data science because it:\n",
    "\n",
    "- Provides high-performance array operations.\n",
    "- Enables efficient mathematical computation with large datasets.\n",
    "- Serves as the foundation for libraries such as Pandas, SciPy, Scikit-learn, and TensorFlow."
   ]
  },
  {
   "cell_type": "markdown",
   "metadata": {},
   "source": [
    "<br>\n",
    "\n",
    "---\n",
    "\n",
    "<br>"
   ]
  },
  {
   "cell_type": "markdown",
   "metadata": {},
   "source": [
    "## Installing NumPy\n",
    "\n",
    "You can install NumPy using `pip` by running:\n",
    "\n",
    "```shell\n",
    "pip install numpy\n",
    "```\n",
    "\n",
    "<br>\n",
    "\n",
    "Alternatively, if you're using Anaconda, NumPy is already installed. If needed, you can update or install it via:\n",
    "\n",
    "```shell\n",
    "conda install numpy\n",
    "```"
   ]
  },
  {
   "cell_type": "markdown",
   "metadata": {},
   "source": [
    "<br>\n",
    "\n",
    "---\n",
    "\n",
    "<br>"
   ]
  },
  {
   "cell_type": "markdown",
   "metadata": {},
   "source": [
    "## Importing NumPy\n",
    "\n",
    "The standard convention to import NumPy is as follows:\n"
   ]
  },
  {
   "cell_type": "code",
   "execution_count": null,
   "metadata": {},
   "outputs": [],
   "source": [
    "import numpy as np"
   ]
  },
  {
   "cell_type": "markdown",
   "metadata": {},
   "source": [
    "<br>\n",
    "\n",
    "---\n",
    "\n",
    "<br>"
   ]
  },
  {
   "cell_type": "markdown",
   "metadata": {},
   "source": [
    "## Verifying NumPy Installation and Basic Usage\n",
    "\n",
    "Let's verify your NumPy installation by checking its version and creating a simple NumPy array.\n"
   ]
  },
  {
   "cell_type": "code",
   "execution_count": null,
   "metadata": {},
   "outputs": [],
   "source": [
    "# Check the NumPy version\n",
    "print(f\"Numpy version: {np.__version__}\")"
   ]
  },
  {
   "cell_type": "code",
   "execution_count": null,
   "metadata": {},
   "outputs": [],
   "source": [
    "# Create a simple NumPy array\n",
    "my_array = np.array([1, 2, 3, 4, 5])\n",
    "\n",
    "print(my_array)\n",
    "print(type(my_array))"
   ]
  },
  {
   "cell_type": "markdown",
   "metadata": {},
   "source": [
    "### Understanding the Output:\n",
    "\n",
    "The array you've created is of type `numpy.ndarray`. Arrays in NumPy are powerful data structures that allow efficient manipulation and computation on large datasets. We'll explore arrays more deeply in the following notebooks."
   ]
  }
 ],
 "metadata": {
  "kernelspec": {
   "display_name": "venv",
   "language": "python",
   "name": "python3"
  },
  "language_info": {
   "codemirror_mode": {
    "name": "ipython",
    "version": 3
   },
   "file_extension": ".py",
   "mimetype": "text/x-python",
   "name": "python",
   "nbconvert_exporter": "python",
   "pygments_lexer": "ipython3",
   "version": "3.13.2"
  }
 },
 "nbformat": 4,
 "nbformat_minor": 2
}
